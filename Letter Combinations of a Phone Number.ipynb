{
 "cells": [
  {
   "cell_type": "code",
   "execution_count": 69,
   "metadata": {},
   "outputs": [],
   "source": [
    "class Solution:\n",
    "    def letterCombinations(digits):\n",
    "        if len(digits) == 0:\n",
    "            return([])\n",
    "        phone = {'2':'abc','3':'def','4':'ghi','5':'jkl','6':'mno','7':'pqrs','8':'tuv','9':'wxyz'}\n",
    "        ans = []\n",
    "        c = 1\n",
    "        for i in digits:\n",
    "            c *= len(phone[i])\n",
    "        ans = ['']*c\n",
    "        for j in digits:\n",
    "            a = [i for i in phone[j]]*int(c/len(phone[j]))\n",
    "            ans = [ans[k]+a[k] for k in range(len(ans))]\n",
    "            ans.sort()\n",
    "        return(ans)\n",
    "            "
   ]
  }
 ],
 "metadata": {
  "kernelspec": {
   "display_name": "Python 3",
   "language": "python",
   "name": "python3"
  },
  "language_info": {
   "codemirror_mode": {
    "name": "ipython",
    "version": 3
   },
   "file_extension": ".py",
   "mimetype": "text/x-python",
   "name": "python",
   "nbconvert_exporter": "python",
   "pygments_lexer": "ipython3",
   "version": "3.7.4"
  }
 },
 "nbformat": 4,
 "nbformat_minor": 2
}
