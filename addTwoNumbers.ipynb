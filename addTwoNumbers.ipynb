{
 "cells": [
  {
   "cell_type": "code",
   "execution_count": 100,
   "metadata": {},
   "outputs": [],
   "source": [
    "class Solution:\n",
    "    def addTwoNumbers(self, l1: ListNode, l2: ListNode) -> ListNode:\n",
    "        l1_ans = ''\n",
    "        l2_ans = ''\n",
    "        while l1:\n",
    "            l1_ans += str(l1.val)\n",
    "            l1 = l1.next\n",
    "        while l2:\n",
    "            l2_ans += str(l2.val)\n",
    "            l2 = l2.next\n",
    "\n",
    "        ans = str(int(str(l1_ans)[::-1]) + int(str(l2_ans)[::-1]))[::-1]\n",
    "        head = cur = ListNode(0)\n",
    "        for i in str(ans):\n",
    "            cur.next = ListNode(int(i))\n",
    "            cur = cur.next\n",
    "        head = head.next\n",
    "        return(head)"
   ]
  }
 ],
 "metadata": {
  "kernelspec": {
   "display_name": "Python 3",
   "language": "python",
   "name": "python3"
  },
  "language_info": {
   "codemirror_mode": {
    "name": "ipython",
    "version": 3
   },
   "file_extension": ".py",
   "mimetype": "text/x-python",
   "name": "python",
   "nbconvert_exporter": "python",
   "pygments_lexer": "ipython3",
   "version": "3.7.4"
  }
 },
 "nbformat": 4,
 "nbformat_minor": 2
}
