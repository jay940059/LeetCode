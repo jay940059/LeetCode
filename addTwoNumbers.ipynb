{
 "cells": [
  {
   "cell_type": "markdown",
   "metadata": {},
   "source": [
    "# 題目\n",
    "題目是讓兩個倒轉的 ListNode 相加在一起，並且倒轉回傳回去 <br>\n",
    "如果l1 = [2,4,3], l2 = [5,6,4] <br>\n",
    "342 + 465 = 807.<br>\n",
    "answer = [7,0,8] <br>\n",
    "\n",
    "https://leetcode.com/problems/add-two-numbers/"
   ]
  },
  {
   "cell_type": "code",
   "execution_count": 3,
   "metadata": {},
   "outputs": [],
   "source": [
    "class ListNode:\n",
    "    def __init__(self, val=0, next=None):\n",
    "        self.val = val\n",
    "        self.next = next\n",
    "class Solution:\n",
    "    def addTwoNumbers(self, l1: ListNode, l2: ListNode) -> ListNode:\n",
    "        l1_ans = ''\n",
    "        l2_ans = ''\n",
    "        while l1:\n",
    "            l1_ans += str(l1.val)\n",
    "            l1 = l1.next\n",
    "        while l2:\n",
    "            l2_ans += str(l2.val)\n",
    "            l2 = l2.next\n",
    "\n",
    "        ans = str(int(str(l1_ans)[::-1]) + int(str(l2_ans)[::-1]))[::-1]\n",
    "        head = cur = ListNode(0)\n",
    "        for i in str(ans):\n",
    "            cur.next = ListNode(int(i))\n",
    "            cur = cur.next\n",
    "        head = head.next\n",
    "        return(head)"
   ]
  },
  {
   "cell_type": "markdown",
   "metadata": {},
   "source": [
    "# 解題邏輯\n",
    "先宣告兩個str變數 <br>\n",
    "並且個別用while迴圈收集ListNode的數字 <br>\n",
    "透過[::-1]倒過來相加後在倒過去 <br>\n",
    "最後透過for迴圈串成ListNode "
   ]
  }
 ],
 "metadata": {
  "kernelspec": {
   "display_name": "Python 3",
   "language": "python",
   "name": "python3"
  },
  "language_info": {
   "codemirror_mode": {
    "name": "ipython",
    "version": 3
   },
   "file_extension": ".py",
   "mimetype": "text/x-python",
   "name": "python",
   "nbconvert_exporter": "python",
   "pygments_lexer": "ipython3",
   "version": "3.7.4"
  }
 },
 "nbformat": 4,
 "nbformat_minor": 2
}
