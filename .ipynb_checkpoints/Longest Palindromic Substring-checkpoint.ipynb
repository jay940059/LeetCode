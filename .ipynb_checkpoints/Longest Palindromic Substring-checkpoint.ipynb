{
 "cells": [
  {
   "cell_type": "code",
   "execution_count": 273,
   "metadata": {},
   "outputs": [],
   "source": [
    "class Solution:\n",
    "    def longestPalindrome( s: str) -> str:\n",
    "        maxLen =0\n",
    "        miniStart = 0\n",
    "        i = 0\n",
    "        n = len(s)\n",
    "        while i < n:\n",
    "            l = i\n",
    "            r = i\n",
    "            while r < n-1 and s[r] == s[r+1]:\n",
    "                print('r',r,s[r+1])\n",
    "                print('l',l,s[l-1])\n",
    "                r+=1\n",
    "            i = r+1\n",
    "            while l and r < n-1 and s[l-1] == s[r+1]:\n",
    "#                 print(l)\n",
    "                l-=1\n",
    "                r+=1\n",
    "            if r-l+1 > maxLen:\n",
    "                maxLen = r-l+1\n",
    "                miniStart = l\n",
    "                print(maxLen,miniStart)\n",
    "        return s[miniStart: miniStart+maxLen]"
   ]
  }
 ],
 "metadata": {
  "kernelspec": {
   "display_name": "Python 3",
   "language": "python",
   "name": "python3"
  },
  "language_info": {
   "codemirror_mode": {
    "name": "ipython",
    "version": 3
   },
   "file_extension": ".py",
   "mimetype": "text/x-python",
   "name": "python",
   "nbconvert_exporter": "python",
   "pygments_lexer": "ipython3",
   "version": "3.7.4"
  }
 },
 "nbformat": 4,
 "nbformat_minor": 2
}
