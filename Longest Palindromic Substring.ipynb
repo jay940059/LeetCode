{
 "cells": [
  {
   "cell_type": "markdown",
   "metadata": {},
   "source": []
  },
  {
   "cell_type": "code",
   "execution_count": 47,
   "metadata": {},
   "outputs": [],
   "source": [
    "class Solution:\n",
    "    def longestPalindrome( s: str) -> str:\n",
    "        half = len(s)//2\n",
    "        print(half)\n",
    "        if half == 0:\n",
    "            return(s)\n",
    "        if len(s)%2 == 1 :\n",
    "            if s[0:half] == s[half+1:][::-1]:\n",
    "                return(s)\n",
    "            else:\n",
    "                front =  Solution.longestPalindrome(s[0:half+1])\n",
    "                back = Solution.longestPalindrome(s[half:])\n",
    "                if len(front)>len(back):\n",
    "                    return(front)\n",
    "                else:\n",
    "                    return(back)\n",
    "        if len(s)%2 != 1 :\n",
    "            if s[0:half] == s[half:len(s)][::-1]:\n",
    "                return(s)\n",
    "            else:\n",
    "                front =  Solution.longestPalindrome(s[0:half])\n",
    "                back = Solution.longestPalindrome(s[half:])\n",
    "                if len(front)>len(back):\n",
    "                    return(front)\n",
    "                else:\n",
    "                    return(back)"
   ]
  },
  {
   "cell_type": "code",
   "execution_count": 151,
   "metadata": {},
   "outputs": [],
   "source": [
    "class Solution:\n",
    "    def longestPalindrome( s: str) -> str:\n",
    "        ans = s[0]\n",
    "        for i in range(0,len(s)):\n",
    "            for j in range(i+1,len(s)+1):\n",
    "                text = s[i:j]\n",
    "#                 print(text)\n",
    "                half = len(text)//2\n",
    "                if len(text) % 2 == 1 :\n",
    "                    if text[0:half] == text[half+1:][::-1] and len(text)>len(ans):\n",
    "                        ans = text\n",
    "                if len(text)%2 != 1 :\n",
    "                    if text[0:half] == text[half:][::-1] and len(text)>len(ans):\n",
    "                        ans = text               \n",
    "        return(ans)"
   ]
  },
  {
   "cell_type": "code",
   "execution_count": 234,
   "metadata": {},
   "outputs": [],
   "source": [
    "class Solution:\n",
    "    def longestPalindrome( s: str) -> str:\n",
    "        ans = s[0]\n",
    "        for i in range(1,len(s)):\n",
    "            for j in range(0,i):\n",
    "                if s[0+j:len(s)-i+1+j]==s[0+j:len(s)-i+1+j][::-1]:\n",
    "                    return(s[0+j:len(s)-i+1+j])\n",
    "        return(ans)"
   ]
  },
  {
   "cell_type": "code",
   "execution_count": 251,
   "metadata": {},
   "outputs": [],
   "source": [
    "class Solution:\n",
    "    def longestPalindrome( s: str) -> str:\n",
    "        if s == s[::-1]:\n",
    "            return(s)\n",
    "        else:\n",
    "            font = Solution.longestPalindrome(s[0:len(s)-1])\n",
    "            back = Solution.longestPalindrome(s[1:len(s)])\n",
    "            if len(font)>len(back):\n",
    "                return(font)\n",
    "            else:\n",
    "                return(back)"
   ]
  },
  {
   "cell_type": "code",
   "execution_count": 273,
   "metadata": {},
   "outputs": [],
   "source": [
    "class Solution:\n",
    "    def longestPalindrome( s: str) -> str:\n",
    "        maxLen =0\n",
    "        miniStart = 0\n",
    "        i = 0\n",
    "        n = len(s)\n",
    "        while i < n:\n",
    "            l = i\n",
    "            r = i\n",
    "            while r < n-1 and s[r] == s[r+1]:\n",
    "                print('r',r,s[r+1])\n",
    "                print('l',l,s[l-1])\n",
    "                r+=1\n",
    "            i = r+1\n",
    "            while l and r < n-1 and s[l-1] == s[r+1]:\n",
    "#                 print(l)\n",
    "                l-=1\n",
    "                r+=1\n",
    "            if r-l+1 > maxLen:\n",
    "                maxLen = r-l+1\n",
    "                miniStart = l\n",
    "                print(maxLen,miniStart)\n",
    "        return s[miniStart: miniStart+maxLen]"
   ]
  },
  {
   "cell_type": "code",
   "execution_count": 268,
   "metadata": {},
   "outputs": [],
   "source": [
    "s = \"abbcccbbbcaaccbababcbcabca\""
   ]
  },
  {
   "cell_type": "code",
   "execution_count": null,
   "metadata": {},
   "outputs": [],
   "source": []
  },
  {
   "cell_type": "code",
   "execution_count": 222,
   "metadata": {},
   "outputs": [
    {
     "data": {
      "text/plain": [
       "2"
      ]
     },
     "execution_count": 222,
     "metadata": {},
     "output_type": "execute_result"
    }
   ],
   "source": [
    "len(s)"
   ]
  },
  {
   "cell_type": "code",
   "execution_count": 274,
   "metadata": {},
   "outputs": [
    {
     "name": "stdout",
     "output_type": "stream",
     "text": [
      "1 0\n",
      "r 1 b\n",
      "l 1 a\n",
      "2 1\n",
      "r 3 c\n",
      "l 3 b\n",
      "r 4 c\n",
      "l 3 b\n",
      "7 1\n",
      "r 6 b\n",
      "l 6 c\n",
      "r 7 b\n",
      "l 6 c\n",
      "r 10 a\n",
      "l 10 c\n",
      "r 12 c\n",
      "l 12 a\n"
     ]
    },
    {
     "data": {
      "text/plain": [
       "'bbcccbb'"
      ]
     },
     "execution_count": 274,
     "metadata": {},
     "output_type": "execute_result"
    }
   ],
   "source": [
    "Solution.longestPalindrome(s)"
   ]
  },
  {
   "cell_type": "code",
   "execution_count": 123,
   "metadata": {},
   "outputs": [
    {
     "data": {
      "text/plain": [
       "1"
      ]
     },
     "execution_count": 123,
     "metadata": {},
     "output_type": "execute_result"
    }
   ],
   "source": [
    "half"
   ]
  },
  {
   "cell_type": "code",
   "execution_count": 105,
   "metadata": {},
   "outputs": [
    {
     "data": {
      "text/plain": [
       "'ab'"
      ]
     },
     "execution_count": 105,
     "metadata": {},
     "output_type": "execute_result"
    }
   ],
   "source": [
    "s[0:2]"
   ]
  },
  {
   "cell_type": "code",
   "execution_count": 32,
   "metadata": {},
   "outputs": [
    {
     "data": {
      "text/plain": [
       "'aaa'"
      ]
     },
     "execution_count": 32,
     "metadata": {},
     "output_type": "execute_result"
    }
   ],
   "source": [
    "s[len(s)//2:]"
   ]
  },
  {
   "cell_type": "code",
   "execution_count": 27,
   "metadata": {},
   "outputs": [],
   "source": [
    "\n",
    "if len(s)%2 != 1:\n",
    "    s[0:len(s)//2] == s[len(s)//2+1:len(s)][::-1]\n",
    "else:\n",
    "    s[0:len(s)//2] == s[len(s)//2:len(s)][::-1]"
   ]
  },
  {
   "cell_type": "code",
   "execution_count": 24,
   "metadata": {},
   "outputs": [
    {
     "data": {
      "text/plain": [
       "True"
      ]
     },
     "execution_count": 24,
     "metadata": {},
     "output_type": "execute_result"
    }
   ],
   "source": []
  }
 ],
 "metadata": {
  "kernelspec": {
   "display_name": "Python 3",
   "language": "python",
   "name": "python3"
  },
  "language_info": {
   "codemirror_mode": {
    "name": "ipython",
    "version": 3
   },
   "file_extension": ".py",
   "mimetype": "text/x-python",
   "name": "python",
   "nbconvert_exporter": "python",
   "pygments_lexer": "ipython3",
   "version": "3.7.4"
  }
 },
 "nbformat": 4,
 "nbformat_minor": 2
}
