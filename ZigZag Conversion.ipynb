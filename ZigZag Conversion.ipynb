{
 "cells": [
  {
   "cell_type": "code",
   "execution_count": 42,
   "metadata": {},
   "outputs": [],
   "source": [
    "class Solution:\n",
    "    def convert( s: str, numRows: int) -> str:\n",
    "        all_s = []\n",
    "        while len(s)>0:\n",
    "            if len(s)>numRows:\n",
    "                all_s.append(s[0:numRows])\n",
    "                s = s[numRows:]\n",
    "            else:\n",
    "                all_s.append(s[0:])\n",
    "                s = ''\n",
    "            for i in range(numRows-2):\n",
    "                if len(s)>0:\n",
    "                    b = (numRows-i-2)*'*'+s[0]\n",
    "                    all_s.append(b)\n",
    "                    s = s[1:]\n",
    "                else:\n",
    "                    break\n",
    "        answer = ''\n",
    "        for i in range(len(all_s[0])):\n",
    "            for j in all_s:\n",
    "                if len(j)>i:\n",
    "                    answer += j[i]\n",
    "                else:\n",
    "                    continue\n",
    "        answer = answer.replace('*','')\n",
    "        return(answer)"
   ]
  },
  {
   "cell_type": "code",
   "execution_count": 43,
   "metadata": {},
   "outputs": [],
   "source": [
    "b = Solution.convert(s,4)"
   ]
  },
  {
   "cell_type": "code",
   "execution_count": 44,
   "metadata": {},
   "outputs": [
    {
     "data": {
      "text/plain": [
       "'PINALSIGYAHRPI'"
      ]
     },
     "execution_count": 44,
     "metadata": {},
     "output_type": "execute_result"
    }
   ],
   "source": [
    "b"
   ]
  },
  {
   "cell_type": "code",
   "execution_count": 27,
   "metadata": {},
   "outputs": [],
   "source": [
    "s = \"PAYPALISHIRING\""
   ]
  },
  {
   "cell_type": "code",
   "execution_count": null,
   "metadata": {},
   "outputs": [],
   "source": [
    "[PAYP][**A*][*L**][ISHI][**R*][*I**][NG**]"
   ]
  }
 ],
 "metadata": {
  "kernelspec": {
   "display_name": "Python 3",
   "language": "python",
   "name": "python3"
  },
  "language_info": {
   "codemirror_mode": {
    "name": "ipython",
    "version": 3
   },
   "file_extension": ".py",
   "mimetype": "text/x-python",
   "name": "python",
   "nbconvert_exporter": "python",
   "pygments_lexer": "ipython3",
   "version": "3.7.4"
  }
 },
 "nbformat": 4,
 "nbformat_minor": 2
}
