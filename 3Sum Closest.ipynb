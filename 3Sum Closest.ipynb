{
 "cells": [
  {
   "cell_type": "code",
   "execution_count": 91,
   "metadata": {},
   "outputs": [],
   "source": [
    "class Solution:\n",
    "    def threeSumClosest(self, nums, target: int):\n",
    "        nums.sort()\n",
    "        c = nums[0]+nums[1]+nums[2]\n",
    "        for i in range(len(nums)):\n",
    "            r = i+1\n",
    "            l = len(nums)-1\n",
    "            for j in nums[i:]:\n",
    "                if r>=l:\n",
    "                    break\n",
    "                if abs((nums[r] + nums[l] + nums[i])-target) < abs(c-target):\n",
    "                    c  = nums[r] + nums[l] + nums[i]\n",
    "                if nums[r] + nums[l]+ nums[i] > target:\n",
    "                    l-=1\n",
    "                else:\n",
    "                    r+=1\n",
    "        return(c)\n",
    "        "
   ]
  }
 ],
 "metadata": {
  "kernelspec": {
   "display_name": "Python 3",
   "language": "python",
   "name": "python3"
  },
  "language_info": {
   "codemirror_mode": {
    "name": "ipython",
    "version": 3
   },
   "file_extension": ".py",
   "mimetype": "text/x-python",
   "name": "python",
   "nbconvert_exporter": "python",
   "pygments_lexer": "ipython3",
   "version": "3.7.4"
  }
 },
 "nbformat": 4,
 "nbformat_minor": 2
}
