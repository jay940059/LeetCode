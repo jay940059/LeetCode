{
 "cells": [
  {
   "cell_type": "code",
   "execution_count": 60,
   "metadata": {},
   "outputs": [],
   "source": [
    "class Solution:\n",
    "    def intToRoman(num):\n",
    "        r_d = {1:'I',5:'V',10:'X',50:'L',100:'C',500:'D',1000:'M'}\n",
    "        a = 1000\n",
    "        ans = ''\n",
    "        num = 1994\n",
    "        for i in range(4):\n",
    "            s = (num // a)\n",
    "            if s>3:\n",
    "                if s == 4:\n",
    "                    ans += r_d[a]+r_d[a*5]\n",
    "                elif s == 9:\n",
    "                    ans += r_d[a]+r_d[a*10]\n",
    "                else:\n",
    "                    ans += r_d[a*5]+r_d[a]*int(s-5)\n",
    "            else:\n",
    "                ans += str(r_d[a])*int(s)\n",
    "            num -= (num // a)*a\n",
    "            a/=10\n",
    "        return(ans)\n",
    "\n",
    "        "
   ]
  }
 ],
 "metadata": {
  "kernelspec": {
   "display_name": "Python 3",
   "language": "python",
   "name": "python3"
  },
  "language_info": {
   "codemirror_mode": {
    "name": "ipython",
    "version": 3
   },
   "file_extension": ".py",
   "mimetype": "text/x-python",
   "name": "python",
   "nbconvert_exporter": "python",
   "pygments_lexer": "ipython3",
   "version": "3.7.4"
  }
 },
 "nbformat": 4,
 "nbformat_minor": 2
}
