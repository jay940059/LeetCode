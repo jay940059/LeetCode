{
 "cells": [
  {
   "cell_type": "markdown",
   "metadata": {},
   "source": [
    "# 題目\n",
    "題目的原意是看一個字串有多長的字詞沒有重複 <br>\n",
    "s = \"abcabcbb\" <br>\n",
    "Output: 3 <br>\n",
    "因為答案是 \"abc\", 所以長度為 3. <br>\n",
    "\n",
    "https://leetcode.com/problems/longest-substring-without-repeating-characters/"
   ]
  },
  {
   "cell_type": "code",
   "execution_count": 1,
   "metadata": {},
   "outputs": [],
   "source": [
    "class Solution:\n",
    "    def lengthOfLongestSubstring(self, s: str) -> int:\n",
    "        ans = ''\n",
    "        b = 0\n",
    "        for i in range(b,len(s)):\n",
    "            co = s[i]\n",
    "            for j in range(b+1,len(s)):\n",
    "                if s[j] in co:\n",
    "                    break\n",
    "                else:\n",
    "                    co+=s[j]\n",
    "            if len(co)>len(ans):\n",
    "                ans = co\n",
    "            b += 1\n",
    "        return(len(ans))"
   ]
  },
  {
   "cell_type": "markdown",
   "metadata": {},
   "source": [
    "# 解題邏輯\n",
    "先宣告一個str變數，以及變數為 0 <br>\n",
    "並用兩個for迴圈從頭開始檢視 <br>\n",
    "檢視有沒有相同的字出現，若有出現則break，並看長度有沒有大於ans <br>"
   ]
  }
 ],
 "metadata": {
  "kernelspec": {
   "display_name": "Python 3",
   "language": "python",
   "name": "python3"
  },
  "language_info": {
   "codemirror_mode": {
    "name": "ipython",
    "version": 3
   },
   "file_extension": ".py",
   "mimetype": "text/x-python",
   "name": "python",
   "nbconvert_exporter": "python",
   "pygments_lexer": "ipython3",
   "version": "3.7.4"
  }
 },
 "nbformat": 4,
 "nbformat_minor": 2
}
