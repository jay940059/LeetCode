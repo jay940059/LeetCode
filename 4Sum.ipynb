{
 "cells": [
  {
   "cell_type": "code",
   "execution_count": 23,
   "metadata": {},
   "outputs": [],
   "source": [
    "class Solution:\n",
    "    def fourSum(nums, target):\n",
    "        if len(nums)<4:\n",
    "            return()\n",
    "        ans = set([])\n",
    "        nums.sort()\n",
    "        for i in range(len(nums)-3):\n",
    "            for j in range(i+1,len(nums)-2):\n",
    "                k = j + 1 \n",
    "                l = len(nums)-1\n",
    "                while k < l:\n",
    "                    test = nums[i]+nums[j]+nums[k]+nums[l]\n",
    "                    if test == target:\n",
    "                        new_ans = (nums[i],nums[j],nums[k],nums[l])\n",
    "                        if new_ans not in ans:\n",
    "                            ans.add(new_ans)\n",
    "                        k += 1\n",
    "                        l -= 1\n",
    "                    elif test > target:\n",
    "                        l -= 1\n",
    "                    else:\n",
    "                        k += 1\n",
    "        return(ans)"
   ]
  }
 ],
 "metadata": {
  "kernelspec": {
   "display_name": "Python 3",
   "language": "python",
   "name": "python3"
  },
  "language_info": {
   "codemirror_mode": {
    "name": "ipython",
    "version": 3
   },
   "file_extension": ".py",
   "mimetype": "text/x-python",
   "name": "python",
   "nbconvert_exporter": "python",
   "pygments_lexer": "ipython3",
   "version": "3.7.4"
  }
 },
 "nbformat": 4,
 "nbformat_minor": 2
}
