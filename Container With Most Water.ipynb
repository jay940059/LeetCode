{
 "cells": [
  {
   "cell_type": "code",
   "execution_count": 15,
   "metadata": {},
   "outputs": [],
   "source": [
    "class Solution(object):\n",
    "    def maxArea(self, height):\n",
    "        n=len(height)\n",
    "        index_left = 0\n",
    "        index_right = n-1\n",
    "        max_area = -1\n",
    "        while index_right > index_left:\n",
    "            curr_area = min(height[index_right], height[index_left])*(index_right - index_left)\n",
    "            max_area = max(max_area, curr_area)\n",
    "            if height[index_right] > height[index_left]:\n",
    "                index_left+=1\n",
    "            else:\n",
    "                index_right-=1\n",
    "        return max_area"
   ]
  }
 ],
 "metadata": {
  "kernelspec": {
   "display_name": "Python 3",
   "language": "python",
   "name": "python3"
  },
  "language_info": {
   "codemirror_mode": {
    "name": "ipython",
    "version": 3
   },
   "file_extension": ".py",
   "mimetype": "text/x-python",
   "name": "python",
   "nbconvert_exporter": "python",
   "pygments_lexer": "ipython3",
   "version": "3.7.4"
  }
 },
 "nbformat": 4,
 "nbformat_minor": 2
}
