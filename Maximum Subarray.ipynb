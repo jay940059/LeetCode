{
 "cells": [
  {
   "cell_type": "code",
   "execution_count": 141,
   "metadata": {},
   "outputs": [],
   "source": [
    "class Solution:\n",
    "    def maxSubArray(self, nums):\n",
    "        l = 0\n",
    "        r = len(nums)-1\n",
    "        ans = nums[l]\n",
    "        while l<=len(nums)-1:\n",
    "            all_l = 0\n",
    "            all_r = 0\n",
    "            if nums[l]<0:\n",
    "                all_l = nums[l]\n",
    "            else:\n",
    "                while l<=len(nums)-1 and nums[l]>=0:\n",
    "                    all_l+=nums[l]\n",
    "                    l+=1\n",
    "            while l<=r:\n",
    "                all_r += nums[r]\n",
    "                r-=1\n",
    "                if all_r<0:\n",
    "                    all_r = 0\n",
    "            if all_l+all_r>ans:\n",
    "                ans = all_l+all_r\n",
    "            l +=1\n",
    "            r = len(nums)-1\n",
    "        return(ans)\n",
    "                \n",
    "                \n",
    "                "
   ]
  }
 ],
 "metadata": {
  "kernelspec": {
   "display_name": "Python 3",
   "language": "python",
   "name": "python3"
  },
  "language_info": {
   "codemirror_mode": {
    "name": "ipython",
    "version": 3
   },
   "file_extension": ".py",
   "mimetype": "text/x-python",
   "name": "python",
   "nbconvert_exporter": "python",
   "pygments_lexer": "ipython3",
   "version": "3.7.4"
  }
 },
 "nbformat": 4,
 "nbformat_minor": 2
}
