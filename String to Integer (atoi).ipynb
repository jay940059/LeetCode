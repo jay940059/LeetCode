{
 "cells": [
  {
   "cell_type": "code",
   "execution_count": 71,
   "metadata": {},
   "outputs": [],
   "source": [
    "class Solution(object):\n",
    "    def myAtoi(s):\n",
    "        for i in s.split(' '):\n",
    "            if i != '':\n",
    "                break\n",
    "        s = i\n",
    "        b = ''\n",
    "        for i in s :\n",
    "            try:\n",
    "                b += str(int(i))\n",
    "            except:\n",
    "                if (i == '-' or i=='+') and len(b)==0:\n",
    "                    b = i+b\n",
    "                else:\n",
    "                    break\n",
    "        try:\n",
    "            if int(b)>2**31-1:\n",
    "                return(2**31-1)\n",
    "            elif int(b)<-2**31:\n",
    "                return(-2**31)\n",
    "            else:\n",
    "                return(int(b))\n",
    "        except:\n",
    "            return(0)\n",
    "                \n",
    "        "
   ]
  },
  {
   "cell_type": "code",
   "execution_count": 72,
   "metadata": {},
   "outputs": [
    {
     "data": {
      "text/plain": [
       "0"
      ]
     },
     "execution_count": 72,
     "metadata": {},
     "output_type": "execute_result"
    }
   ],
   "source": [
    "Solution.myAtoi('00000-42a1234')"
   ]
  }
 ],
 "metadata": {
  "kernelspec": {
   "display_name": "Python 3",
   "language": "python",
   "name": "python3"
  },
  "language_info": {
   "codemirror_mode": {
    "name": "ipython",
    "version": 3
   },
   "file_extension": ".py",
   "mimetype": "text/x-python",
   "name": "python",
   "nbconvert_exporter": "python",
   "pygments_lexer": "ipython3",
   "version": "3.7.4"
  }
 },
 "nbformat": 4,
 "nbformat_minor": 2
}
