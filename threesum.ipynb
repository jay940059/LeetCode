{
 "cells": [
  {
   "cell_type": "markdown",
   "metadata": {},
   "source": [
    "# 題目\n",
    "https://leetcode.com/problems/3sum/"
   ]
  },
  {
   "cell_type": "code",
   "execution_count": 33,
   "metadata": {},
   "outputs": [],
   "source": [
    "class Solution:\n",
    "    def threeSum(nums):\n",
    "        ans = []\n",
    "        nums = sorted(nums)\n",
    "        for i in range(len(nums)-2):\n",
    "            l = i+1\n",
    "            r = len(nums)-1\n",
    "            t = nums[i]\n",
    "            while l < r:\n",
    "                print(l,r)\n",
    "                if nums[l]+nums[r]<-t:\n",
    "                    l+=1\n",
    "                elif nums[l]+nums[r]>-t:\n",
    "                    r-=1\n",
    "                else:\n",
    "                    if [nums[l],nums[r],t] in ans:\n",
    "                        l+=1\n",
    "                        continue\n",
    "                    else:\n",
    "                        ans.append([nums[l],nums[r],t])\n",
    "                        l+=1\n",
    "\n",
    "        return(ans)\n",
    "        \n",
    "                \n",
    "        "
   ]
  }
 ],
 "metadata": {
  "kernelspec": {
   "display_name": "Python 3",
   "language": "python",
   "name": "python3"
  },
  "language_info": {
   "codemirror_mode": {
    "name": "ipython",
    "version": 3
   },
   "file_extension": ".py",
   "mimetype": "text/x-python",
   "name": "python",
   "nbconvert_exporter": "python",
   "pygments_lexer": "ipython3",
   "version": "3.7.4"
  }
 },
 "nbformat": 4,
 "nbformat_minor": 2
}
