{
 "cells": [
  {
   "cell_type": "markdown",
   "metadata": {},
   "source": [
    "# 題目\n",
    "\n",
    "https://leetcode.com/problems/count-and-say/"
   ]
  },
  {
   "cell_type": "code",
   "execution_count": 1,
   "metadata": {},
   "outputs": [],
   "source": [
    "class Solution:\n",
    "    def countAndSay(self, n: int) -> str:\n",
    "        ans = '1'\n",
    "        for i in range(n-1):\n",
    "            count = 1\n",
    "            word = ans[0]\n",
    "            text = ''\n",
    "            for j in range(0,len(ans)):\n",
    "                if ans[j] != word:\n",
    "                    text += str(count-1)+word\n",
    "                    count = 1\n",
    "                    word = ans[j]\n",
    "                if j == len(ans)-1:\n",
    "                    text += str(count)+word\n",
    "                    ans = text\n",
    "                else:\n",
    "                    count += 1\n",
    "        return(ans)"
   ]
  },
  {
   "cell_type": "markdown",
   "metadata": {},
   "source": [
    "# 解題邏輯\n"
   ]
  }
 ],
 "metadata": {
  "kernelspec": {
   "display_name": "Python 3",
   "language": "python",
   "name": "python3"
  },
  "language_info": {
   "codemirror_mode": {
    "name": "ipython",
    "version": 3
   },
   "file_extension": ".py",
   "mimetype": "text/x-python",
   "name": "python",
   "nbconvert_exporter": "python",
   "pygments_lexer": "ipython3",
   "version": "3.7.4"
  }
 },
 "nbformat": 4,
 "nbformat_minor": 2
}
